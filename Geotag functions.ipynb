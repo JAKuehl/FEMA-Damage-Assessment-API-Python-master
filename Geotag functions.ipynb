{
 "cells": [
  {
   "cell_type": "markdown",
   "metadata": {},
   "source": [
    "## Functions \n",
    "---\n",
    "\n",
    "This file contains script for extracting metadata from imagery and external details from Google and Zillow APIs.\n",
    "\n",
    "External data from the following APIs are extracted:\n",
    "- Google Street View API\n",
    "- Google Geocoder API\n",
    "- Zillow individual house prices and details \n",
    "\n",
    "**Note: In order to use these APIs, keys from Google and Zillow must be obtained.**"
   ]
  },
  {
   "cell_type": "code",
   "execution_count": 37,
   "metadata": {},
   "outputs": [],
   "source": [
    "# Modules that need to be installed are pillow, google_streetview, googlemaps, pygeocoder\n",
    "py_modules =['pillow','google_streetview', 'googlemaps','pygeocoder']"
   ]
  },
  {
   "cell_type": "code",
   "execution_count": 38,
   "metadata": {},
   "outputs": [],
   "source": [
    "## Install the following modules in your device\n",
    "# %pip install pillow\n",
    "# %pip install google_streetview\n",
    "# %pip install googlemaps\n",
    "# %pip install pygeocoder\n",
    "# %pip install pyzillow"
   ]
  },
  {
   "cell_type": "code",
   "execution_count": 39,
   "metadata": {},
   "outputs": [],
   "source": [
    "## Pillow is used to extract data from Imagery ##\n",
    "\n",
    "\n",
    "# Importing the image library pillow\n",
    "\n",
    "from PIL import Image\n",
    "from PIL.ExifTags import TAGS, GPSTAGS\n",
    "\n",
    "# Import google_streetview for the api module\n",
    "import googlemaps\n",
    "import google_streetview.api\n",
    "import google_streetview\n",
    "\n",
    "import json\n",
    "\n",
    "# Importing for reversing to the address\n",
    "\n",
    "from pygeocoder import Geocoder"
   ]
  },
  {
   "cell_type": "code",
   "execution_count": 40,
   "metadata": {},
   "outputs": [],
   "source": [
    "def get_exif(filename):\n",
    "    \"\"\"Function for extracting GPS data from image\n",
    "        Args:\n",
    "            img (.jpeg / .png et al.): an image file Note: Photos\n",
    "        Output:\n",
    "            Will first validate whether or not we have a valid image file and then output the \n",
    "            metadata in form of a dictionary \"\"\"\n",
    "    try:\n",
    "        image = Image.open(filename)\n",
    "        image.verify()    #Image verify won't output anything if the image is in the correct format\n",
    "        exif = image._getexif()\n",
    "        if exif is not None:\n",
    "            for key, value in exif.items():\n",
    "                name = TAGS.get(key, key)\n",
    "                exif[name] = exif.pop(key)\n",
    "            \n",
    "    except:\n",
    "        raise ValueError(\"\"\"Please upload a valid jpg or png file do not use airdrop or messaging apps like WhatsApp \n",
    "                         or Slack to transfer images. Emailing will keep all of the metadata.\"\"\")\n",
    "    \n",
    "        \n",
    "    return exif\n"
   ]
  },
  {
   "cell_type": "code",
   "execution_count": 73,
   "metadata": {},
   "outputs": [
    {
     "data": {
      "text/plain": [
       "{296: 2,\n",
       " 'Software': '12.3.1',\n",
       " 'Orientation': 6,\n",
       " 'DateTime': '2019:07:26 19:19:25',\n",
       " 'XResolution': (72, 1),\n",
       " 'YResolution': (72, 1),\n",
       " 'ExifVersion': b'0221',\n",
       " 'ComponentsConfiguration': b'\\x01\\x02\\x03\\x00',\n",
       " 'ShutterSpeedValue': (24087, 3992),\n",
       " 'DateTimeOriginal': '2019:07:26 19:19:25',\n",
       " 'DateTimeDigitized': '2019:07:26 19:19:25',\n",
       " 'ApertureValue': (54823, 32325),\n",
       " 'BrightnessValue': (93366, 18625),\n",
       " 'ExposureBiasValue': (0, 1),\n",
       " 'MeteringMode': 5,\n",
       " 'Flash': 24,\n",
       " 'FocalLength': (4, 1),\n",
       " 'ColorSpace': 1,\n",
       " 'ExifImageWidth': 4032,\n",
       " 'FocalLengthIn35mmFilm': 28,\n",
       " 'SceneCaptureType': 0,\n",
       " 'ExifImageHeight': 3024,\n",
       " 'SubsecTimeOriginal': '247',\n",
       " 'SubsecTimeDigitized': '247',\n",
       " 'SubjectLocation': (2015, 1511, 2217, 1330),\n",
       " 'SensingMethod': 2,\n",
       " 'ExposureTime': (1, 66),\n",
       " 'FNumber': (9, 5),\n",
       " 'SceneType': b'\\x01',\n",
       " 'ExposureProgram': 2,\n",
       " 'ISOSpeedRatings': 25,\n",
       " 'ExposureMode': 0,\n",
       " 'FlashPixVersion': b'0100',\n",
       " 'WhiteBalance': 0,\n",
       " 'LensSpecification': ((4, 1), (6, 1), (9, 5), (12, 5)),\n",
       " 'LensMake': 'Apple',\n",
       " 'LensModel': 'iPhone X back dual camera 4mm f/1.8',\n",
       " 'MakerNote': b'Apple iOS\\x00\\x00\\x01MM\\x00\\x19\\x00\\x01\\x00\\t\\x00\\x00\\x00\\x01\\x00\\x00\\x00\\n\\x00\\x02\\x00\\x07\\x00\\x00\\x02.\\x00\\x00\\x01@\\x00\\x03\\x00\\x07\\x00\\x00\\x00h\\x00\\x00\\x03n\\x00\\x04\\x00\\t\\x00\\x00\\x00\\x01\\x00\\x00\\x00\\x01\\x00\\x05\\x00\\t\\x00\\x00\\x00\\x01\\x00\\x00\\x00\\xae\\x00\\x06\\x00\\t\\x00\\x00\\x00\\x01\\x00\\x00\\x00\\xae\\x00\\x07\\x00\\t\\x00\\x00\\x00\\x01\\x00\\x00\\x00\\x01\\x00\\x08\\x00\\n\\x00\\x00\\x00\\x03\\x00\\x00\\x03\\xd6\\x00\\x0c\\x00\\n\\x00\\x00\\x00\\x02\\x00\\x00\\x03\\xee\\x00\\r\\x00\\t\\x00\\x00\\x00\\x01\\x00\\x00\\x00\\x1d\\x00\\x0e\\x00\\t\\x00\\x00\\x00\\x01\\x00\\x00\\x00\\x00\\x00\\x0f\\x00\\t\\x00\\x00\\x00\\x01\\x00\\x00\\x00\\x02\\x00\\x10\\x00\\t\\x00\\x00\\x00\\x01\\x00\\x00\\x00\\x01\\x00\\x11\\x00\\x02\\x00\\x00\\x00%\\x00\\x00\\x03\\xfe\\x00\\x14\\x00\\t\\x00\\x00\\x00\\x01\\x00\\x00\\x00\\x05\\x00\\x16\\x00\\x02\\x00\\x00\\x00\\x1d\\x00\\x00\\x04$\\x00\\x17\\x00\\t\\x00\\x00\\x00\\x01\\x00\\x00 \\x00\\x00\\x19\\x00\\t\\x00\\x00\\x00\\x01\\x00\\x00\\x00\\x00\\x00\\x1a\\x00\\x02\\x00\\x00\\x00\\x06\\x00\\x00\\x04B\\x00\\x1f\\x00\\t\\x00\\x00\\x00\\x01\\x00\\x00\\x00\\x00\\x00!\\x00\\n\\x00\\x00\\x00\\x01\\x00\\x00\\x04H\\x00#\\x00\\t\\x00\\x00\\x00\\x02\\x00\\x00\\x04P\\x00%\\x00\\t\\x00\\x00\\x00\\x01\\x00\\x00\\x00\\x00\\x00&\\x00\\t\\x00\\x00\\x00\\x01\\x00\\x00\\x00\\x00\\x00\\'\\x00\\n\\x00\\x00\\x00\\x01\\x00\\x00\\x04X\\x00\\x00\\x00\\x00bplist00O\\x11\\x02\\x00o\\x01\\x8f\\x00\\xaa\\x02\\xde\\x01\\xc0\\x01r\\x01\\xec\\x00\\xe7\\x003\\x01>\\x01c\\x004\\x009\\x00I\\x00.\\x00\\x19\\x00v\\x01\\x8a\\x00\\xc6\\x02\\xcf\\x01\\xb2\\x01f\\x01\\xe7\\x00\\xcc\\x008\\x01B\\x01f\\x00G\\x00+\\x00J\\x007\\x00\\x0c\\x00\\x9e\\x01u\\x00\\x12\\x02\\xdf\\x01\\xd4\\x01p\\x01\\xf0\\x00\\xf6\\x000\\x01?\\x01j\\x00A\\x00\\x1d\\x00J\\x00(\\x00\\x05\\x00\\xba\\x01o\\x00]\\x01v\\x01\\xbf\\x01q\\x01\\xea\\x00\\xf3\\x005\\x01D\\x01p\\x00+\\x00&\\x00G\\x00\\r\\x00\\x06\\x00\\xd0\\x01k\\x00U\\x01p\\x01\\xc0\\x01\\x7f\\x01\\xef\\x00\\xad\\x003\\x01\\x0c\\x01r\\x00\\x14\\x00=\\x006\\x00\\x06\\x00\\x06\\x00\\xf2\\x01[\\x00\\xf4\\x00@\\x01\\x97\\x01j\\x01\\xbc\\x00g\\x00\\x8b\\x00l\\x00Z\\x00 \\x00Q\\x00&\\x00\\x05\\x00\\x08\\x00\\xf1\\x01f\\x00\\xf7\\x00\\xb8\\x01\\xc9\\x01\\x94\\x01\\xc3\\x004\\x00E\\x001\\x00W\\x00B\\x00Q\\x00\\x1a\\x00\\x05\\x00\\x08\\x00\\x15\\x02t\\x00\\xc3\\x00\\xd7\\x01\\xcb\\x01x\\x01\\xc4\\x00j\\x002\\x003\\x00\\\\\\x00Z\\x00N\\x00\\x0e\\x00\\x05\\x00\\t\\x00!\\x02z\\x00\\xb8\\x00\\xec\\x01\\xbc\\x01_\\x01\\xbf\\x00c\\x000\\x009\\x00Y\\x00X\\x00H\\x00\\x08\\x00\\x05\\x00\\x0f\\x00\\x0e\\x02\\x8a\\x00\\xea\\x00\\xac\\x02\\xe7\\x01\\x9a\\x01\\xd2\\x00=\\x009\\x00H\\x00^\\x00U\\x00>\\x00\\x08\\x00\\x05\\x00\\t\\x00\\x13\\x02\\x97\\x00\\xd2\\x00\\xf8\\x02\\x0e\\x02\\xb3\\x01\\xc4\\x00=\\x00T\\x00a\\x00d\\x00S\\x00@\\x00\\x07\\x00\\x05\\x00\\x07\\x00M\\x02\\x9d\\x00\\x85\\x00\"\\x02\\xc4\\x01p\\x01\\xa2\\x00E\\x00W\\x00\\x91\\x00|\\x00Q\\x00?\\x00\\x07\\x00\\x06\\x00\\x05\\x006\\x02\\x97\\x00\\xce\\x00\\x0f\\x01+\\x01\\xfb\\x00\\x84\\x00\\x86\\x00\\xb6\\x00\\x15\\x01\\xc9\\x00M\\x00=\\x00\\t\\x00\\x06\\x00\\x06\\x003\\x02\\xdb\\x01\\xe3\\x00M\\x00w\\x00|\\x00~\\x00\\x87\\x00H\\x00\\xf5\\x00\\xe7\\x00J\\x00:\\x00\\r\\x00\\x06\\x00\\x06\\x00f\\x03y\\x01^\\x00@\\x006\\x007\\x00y\\x00\\x92\\x004\\x00\\xe1\\x004\\x01F\\x005\\x00\\x15\\x00\\x06\\x00\\x07\\x00\\x18\\x02~\\x00R\\x00>\\x006\\x006\\x00?\\x00g\\x00T\\x00\\xcd\\x00\\x84\\x01C\\x001\\x00\\x1d\\x00\\x05\\x00\\x07\\x00\\x00\\x08\\x00\\x00\\x00\\x00\\x00\\x00\\x02\\x01\\x00\\x00\\x00\\x00\\x00\\x00\\x00\\x01\\x00\\x00\\x00\\x00\\x00\\x00\\x00\\x00\\x00\\x00\\x00\\x00\\x00\\x00\\x02\\x0cbplist00\\xd4\\x01\\x02\\x03\\x04\\x05\\x06\\x07\\x08UflagsUvalueYtimescaleUepoch\\x10\\x01\\x13\\x00\\x007\\x83 k\\x02e\\x12;\\x9a\\xca\\x00\\x10\\x00\\x08\\x11\\x17\\x1d\\'-/8=\\x00\\x00\\x00\\x00\\x00\\x00\\x01\\x01\\x00\\x00\\x00\\x00\\x00\\x00\\x00\\t\\x00\\x00\\x00\\x00\\x00\\x00\\x00\\x00\\x00\\x00\\x00\\x00\\x00\\x00\\x00?\\x00\\x00\\ru\\x00\\x04v\\xde\\xff\\xff\\xbco\\x00\\x00C\\xce\\x00\\x00\\x0c\\xef\\x00\\x01_\\x93\\x00\\x00+\\x1d\\x00\\x00\\x01\\x00\\x00\\x000a\\x00\\x00\\x01\\x007FC33A06-8A4C-4911-A5E1-46FC2AA7F53B\\x00\\x00AdMja+RiisuBnjqLjRpEd34khapm\\x00\\x00q825s\\x00\\x00\\x00\\x00\\x00\\x00\\x00\\x00\\x01\\x00\\x00\\x00\\x81 \\x00\\x082\\x00\\x00\\x00\\x00\\x00\\x00\\x00\\x01',\n",
       " 'GPSInfo': {1: 'N',\n",
       "  2: ((34, 1), (4, 1), (2749, 100)),\n",
       "  3: 'W',\n",
       "  4: ((118, 1), (22, 1), (2714, 100)),\n",
       "  5: b'\\x00',\n",
       "  6: (239, 5),\n",
       "  12: 'K',\n",
       "  13: (0, 1),\n",
       "  16: 'T',\n",
       "  17: (412799, 1198),\n",
       "  23: 'T',\n",
       "  24: (412799, 1198),\n",
       "  31: (5, 1)},\n",
       " 'ExifOffset': 194,\n",
       " 'Make': 'Apple',\n",
       " 'Model': 'iPhone X'}"
      ]
     },
     "execution_count": 73,
     "metadata": {},
     "output_type": "execute_result"
    }
   ],
   "source": [
    "get_exif('picture/croft.JPG')"
   ]
  },
  {
   "cell_type": "code",
   "execution_count": 41,
   "metadata": {},
   "outputs": [],
   "source": [
    "def get_geotagging(exif):\n",
    "    \n",
    "    \n",
    "    \"\"\" Returns:\n",
    "        Dictionary with following key: value pairs:\n",
    "            'GPSVersionID':  bytes, \n",
    "            'GPSLatitudeRef': str = 'N' or 'S',\n",
    "            'GPSLatitude': tuple of tuples,\n",
    "            'GPSLongitudeRef': str = 'E' or 'W',\n",
    "            'GPSLongitude': tuple of tuples,\n",
    "            'GPSAltitudeRef': byte string,\n",
    "            'GPSAltitude': tuple,\n",
    "            'GPSTimeStamp': tuple of tuples,\n",
    "            'GPSSatellites':,\n",
    "            'GPSStatus':,\n",
    "            'GPSMeasureMode':,\n",
    "            'GPSDOP':,\n",
    "            'GPSSpeedRef': str,\n",
    "            'GPSSpeed': tuple,\n",
    "            'GPSImgDirectionRef': str,\n",
    "            'GPSImgDirection': tuple,\n",
    "            'GPSDestBearingRef': str,\n",
    "            'GPSDestBearing': tuple,\n",
    "            'GPSDateStamp': str representing datetime,\n",
    "            'GPSDifferential',\n",
    "            'GPSHPositioningError': tuple,\n",
    "            'GPSTrackRef',\n",
    "            'GPSTrack',\n",
    "            'GPSMapDatum',\n",
    "            'GPSDestLatitudeRef',\n",
    "            'GPSDestLatitude',\n",
    "            'GPSDestLongitudeRef',\n",
    "            'GPSDestLongitude',\n",
    "            'GPSDestDistanceRef',\n",
    "            'GPSDestDistance',\n",
    "            'GPSProcessingMethod',\n",
    "            'GPSAreaInformation',\n",
    "\n",
    "                }\n",
    "    \"\"\"\n",
    "   \n",
    "    if not exif:\n",
    "        raise ValueError(\"No metadata found please check your camera settings\")\n",
    "\n",
    "    geotagging = {}\n",
    "    for (idx, tag) in TAGS.items():\n",
    "        if tag == 'GPSInfo':\n",
    "            geotagging= exif[tag]\n",
    "                \n",
    "    new = {GPSTAGS[k]: v for k,v in geotagging.items()}\n",
    "\n",
    "    return new\n",
    "\n",
    "\n",
    "       "
   ]
  },
  {
   "cell_type": "markdown",
   "metadata": {},
   "source": [
    "# Convert to degrees"
   ]
  },
  {
   "cell_type": "code",
   "execution_count": 42,
   "metadata": {},
   "outputs": [],
   "source": [
    "def to_degrees(coord,direc):\n",
    "    deg_num, deg_denom = coord[0]\n",
    "    d = float(deg_num)/float(deg_denom)\n",
    "    \n",
    "    min_num, min_denom = coord[1]\n",
    "    m = float(min_num)/float(min_denom)\n",
    "    #Seconds are optional \n",
    "    try:\n",
    "        sec_num, sec_denom = coord[2]\n",
    "        s = float(sec_num)/float(sec_denom)\n",
    "    except:\n",
    "        s = 0\n",
    "    \n",
    "    if direc == 'N' or direc == 'E':\n",
    "        sign = 1\n",
    "    elif direc == 'S' or direc == 'W':\n",
    "        sign = -1 \n",
    "    \n",
    "    \n",
    "    return sign*(d + m/(60.00)+s/(3600.00)) \n",
    "            "
   ]
  },
  {
   "cell_type": "code",
   "execution_count": null,
   "metadata": {},
   "outputs": [],
   "source": []
  },
  {
   "cell_type": "markdown",
   "metadata": {},
   "source": [
    "## Putting in the Google API"
   ]
  },
  {
   "cell_type": "code",
   "execution_count": 43,
   "metadata": {},
   "outputs": [],
   "source": [
    "view = google_streetview"
   ]
  },
  {
   "cell_type": "code",
   "execution_count": 44,
   "metadata": {},
   "outputs": [],
   "source": [
    "with open('credentials.json') as json_file:\n",
    "    credential = json.load(json_file)"
   ]
  },
  {
   "cell_type": "code",
   "execution_count": 45,
   "metadata": {},
   "outputs": [],
   "source": [
    "gmaps = googlemaps.Client(credential['google-api-key'])"
   ]
  },
  {
   "cell_type": "code",
   "execution_count": 46,
   "metadata": {},
   "outputs": [],
   "source": [
    "# Define parameters for street view api\n",
    "def google_streetviewer(location, key='YOURAPIKEY'):\n",
    "    params = [{\n",
    "    'size': '600x300', # max 640x640 pixels\n",
    "    'location': location ,\n",
    "    'heading': '151.78',\n",
    "    'pitch': '-0.76',\n",
    "    'key': key\n",
    "    }]\n",
    "\n",
    "    # Create a results object\n",
    "    results = google_streetview.api.results(params)\n",
    "\n",
    "    # Download images to directory 'downloads'\n",
    "    return results.download_links('google-pics')"
   ]
  },
  {
   "cell_type": "code",
   "execution_count": 48,
   "metadata": {
    "scrolled": true
   },
   "outputs": [],
   "source": [
    "test = get_exif('picture/croft.JPG')"
   ]
  },
  {
   "cell_type": "code",
   "execution_count": 50,
   "metadata": {},
   "outputs": [],
   "source": [
    "tags1 = get_geotagging(test)"
   ]
  },
  {
   "cell_type": "code",
   "execution_count": 63,
   "metadata": {},
   "outputs": [],
   "source": []
  },
  {
   "cell_type": "code",
   "execution_count": 58,
   "metadata": {},
   "outputs": [
    {
     "data": {
      "text/plain": [
       "'34.07430277777778,-118.37420555555555,'"
      ]
     },
     "execution_count": 58,
     "metadata": {},
     "output_type": "execute_result"
    }
   ],
   "source": [
    "location"
   ]
  },
  {
   "cell_type": "code",
   "execution_count": 61,
   "metadata": {},
   "outputs": [],
   "source": [
    "google_streetviewer('34.07430277777778,-118.3742',credential['google-api-key'])\n"
   ]
  },
  {
   "cell_type": "code",
   "execution_count": 64,
   "metadata": {},
   "outputs": [],
   "source": [
    "google_streetviewer(location,credential['google-api-key'])"
   ]
  },
  {
   "cell_type": "markdown",
   "metadata": {},
   "source": [
    "## Setting up the Google API to show the address"
   ]
  },
  {
   "cell_type": "code",
   "execution_count": 11,
   "metadata": {},
   "outputs": [],
   "source": [
    "def reverse_lookup(lat, long, key='YOURAPIKEY'):\n",
    "    \"\"\"Function for lookup of addresses from latitude, longitude details using Google Maps API\n",
    "    Args:\n",
    "        lat (float): latitude as float\n",
    "        long (float): longitude as float\n",
    "        key (str): (default='YOURAPIKEYHERE') google maps api key\n",
    "    Returns:\n",
    "        returns a tuple with address (str), zipcode (str)\n",
    "        \"\"\"\n",
    "    result = str(Geocoder(api_key=key).reverse_geocode(lat, long))\n",
    "    location_details = result.split(\",\")\n",
    "    address = location_details[0]\n",
    "    zipcode = location_details[-2]\n",
    "    city = location_details[1]\n",
    "    state = location_details[2].split(\" \")[1]\n",
    "    return address, zipcode, city, state"
   ]
  },
  {
   "cell_type": "markdown",
   "metadata": {},
   "source": [
    "## Setting up the Zillow API"
   ]
  },
  {
   "cell_type": "code",
   "execution_count": null,
   "metadata": {},
   "outputs": [],
   "source": []
  },
  {
   "cell_type": "code",
   "execution_count": 12,
   "metadata": {},
   "outputs": [],
   "source": [
    "#Packages used for the Zillow API\n",
    "\n",
    "from pyzillow.pyzillow import ZillowWrapper, GetDeepSearchResults, GetUpdatedPropertyDetails\n",
    "\n",
    "def zillow_query(key, address,citystatezip):\n",
    "    \n",
    "    zillow =[]\n",
    "    zillow_data =  ZillowWrapper(key)\n",
    "    deep_search_response = zillow_data.get_deep_search_results(\n",
    "        address, citystatezip)\n",
    "    result = GetDeepSearchResults(deep_search_response)\n",
    "    \n",
    "\n",
    "#Print the results of the query \n",
    "\n",
    "    return result"
   ]
  },
  {
   "cell_type": "code",
   "execution_count": 25,
   "metadata": {},
   "outputs": [],
   "source": []
  },
  {
   "cell_type": "code",
   "execution_count": 26,
   "metadata": {},
   "outputs": [
    {
     "data": {
      "text/plain": [
       "{'data': <Element 'results' at 0x10e715048>,\n",
       " 'zillow_id': '113501804',\n",
       " 'home_type': 'Condominium',\n",
       " 'home_detail_link': 'http://www.zillow.com/homedetails/108-S-Croft-Ave-103-Los-Angeles-CA-90048/113501804_zpid/',\n",
       " 'graph_data_link': 'http://www.zillow.com/homedetails/108-S-Croft-Ave-103-Los-Angeles-CA-90048/113501804_zpid/#charts-and-data',\n",
       " 'map_this_home_link': 'http://www.zillow.com/homes/113501804_zpid/',\n",
       " 'latitude': '34.074254',\n",
       " 'longitude': '-118.373865',\n",
       " 'tax_year': '2018',\n",
       " 'tax_value': '685520.0',\n",
       " 'year_built': '2011',\n",
       " 'property_size': '7497',\n",
       " 'home_size': '1536',\n",
       " 'bathrooms': '2.25',\n",
       " 'bedrooms': '3',\n",
       " 'last_sold_date': '07/26/2019',\n",
       " 'last_sold_price': '1152000',\n",
       " 'zestimate_amount': '1198002',\n",
       " 'zestimate_last_updated': '07/22/2019',\n",
       " 'zestimate_value_change': '35338',\n",
       " 'zestimate_valuation_range_high': '1257902',\n",
       " 'zestimate_valuationRange_low': '1138102',\n",
       " 'zestimate_percentile': '0'}"
      ]
     },
     "execution_count": 26,
     "metadata": {},
     "output_type": "execute_result"
    }
   ],
   "source": []
  },
  {
   "cell_type": "markdown",
   "metadata": {},
   "source": [
    "## Function that gets the metadata and gives all the details about the location"
   ]
  },
  {
   "cell_type": "code",
   "execution_count": 119,
   "metadata": {},
   "outputs": [],
   "source": [
    "def master_query(img_file):\n",
    "    exif = get_exif(img_file)\n",
    "    tags = get_geotagging(exif)\n",
    "    location = f\"{to_degrees(tags['GPSLatitude'], tags['GPSLatitudeRef'])},{to_degrees(tags['GPSLongitude'], tags['GPSLongitudeRef'])}\"\n",
    "    \n",
    "    google_view = google_streetviewer(location, key= credential['google-api-key'])\n",
    "    \n",
    "    address = reverse_lookup(float(location.split(\",\")[0]),float(location.split(\",\")[1]), credential['google-api-key'])\n",
    "    \n",
    "    details = zillow_query(credential['zillow-api-key'],address[0],address[1])\n",
    "    details_dict = details.__dict__\n",
    "    keys = ['zillow_id','home_type','year_built','property_size','home_size',\n",
    "            'bathrooms','bedrooms','last_sold_date','last_sold_price','zestimate_amount']\n",
    "    dict_outcome= {k:details_dict[k] for k in keys if k in details_dict}\n",
    "    dict_outcome['address'] = f'{address[0]},{address[2]},{address[1]}'\n",
    "    \n",
    "    return dict_outcome\n",
    "    \n",
    "    \n",
    "    "
   ]
  },
  {
   "cell_type": "code",
   "execution_count": 120,
   "metadata": {},
   "outputs": [],
   "source": [
    "master_results = master_query('picture/croft.JPG')"
   ]
  },
  {
   "cell_type": "code",
   "execution_count": 121,
   "metadata": {},
   "outputs": [
    {
     "data": {
      "text/plain": [
       "{'zillow_id': '2083313613',\n",
       " 'home_type': 'Condominium',\n",
       " 'year_built': '2011',\n",
       " 'property_size': '7497',\n",
       " 'home_size': '1510',\n",
       " 'bathrooms': '3.0',\n",
       " 'bedrooms': '3',\n",
       " 'last_sold_date': '10/07/2014',\n",
       " 'last_sold_price': '1025000',\n",
       " 'zestimate_amount': None,\n",
       " 'address': '108 S Croft Ave, Los Angeles, CA 90048'}"
      ]
     },
     "execution_count": 121,
     "metadata": {},
     "output_type": "execute_result"
    }
   ],
   "source": [
    "master_results"
   ]
  }
 ],
 "metadata": {
  "kernelspec": {
   "display_name": "Python 3",
   "language": "python",
   "name": "python3"
  },
  "language_info": {
   "codemirror_mode": {
    "name": "ipython",
    "version": 3
   },
   "file_extension": ".py",
   "mimetype": "text/x-python",
   "name": "python",
   "nbconvert_exporter": "python",
   "pygments_lexer": "ipython3",
   "version": "3.7.3"
  }
 },
 "nbformat": 4,
 "nbformat_minor": 2
}
